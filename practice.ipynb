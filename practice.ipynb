{
  "nbformat": 4,
  "nbformat_minor": 0,
  "metadata": {
    "colab": {
      "name": "Untitled5.ipynb",
      "provenance": [],
      "authorship_tag": "ABX9TyPkowT+/xwSxAySuGlyROhY",
      "include_colab_link": true
    },
    "kernelspec": {
      "name": "python3",
      "display_name": "Python 3"
    },
    "language_info": {
      "name": "python"
    }
  },
  "cells": [
    {
      "cell_type": "markdown",
      "metadata": {
        "id": "view-in-github",
        "colab_type": "text"
      },
      "source": [
        "<a href=\"https://colab.research.google.com/github/hans8854/pytorch_test/blob/main/Untitled5.ipynb\" target=\"_parent\"><img src=\"https://colab.research.google.com/assets/colab-badge.svg\" alt=\"Open In Colab\"/></a>"
      ]
    },
    {
      "cell_type": "code",
      "execution_count": 5,
      "metadata": {
        "id": "DMY81ggx_UbT"
      },
      "outputs": [],
      "source": [
        "import torch"
      ]
    },
    {
      "cell_type": "code",
      "source": [
        "x = torch.empty(5,3)"
      ],
      "metadata": {
        "colab": {
          "base_uri": "https://localhost:8080/"
        },
        "id": "5YY1xbn3_ZdH",
        "outputId": "4f1e3d82-2d48-45da-c4d7-cbd25762c55f"
      },
      "execution_count": 2,
      "outputs": [
        {
          "output_type": "execute_result",
          "data": {
            "text/plain": [
              "tensor([[2.1765e-35, 0.0000e+00, 3.3631e-44],\n",
              "        [0.0000e+00,        nan, 6.4460e-44],\n",
              "        [1.1578e+27, 1.1362e+30, 7.1547e+22],\n",
              "        [4.5828e+30, 1.2121e+04, 7.1846e+22],\n",
              "        [9.2198e-39, 7.0374e+22, 0.0000e+00]])"
            ]
          },
          "metadata": {},
          "execution_count": 2
        }
      ]
    },
    {
      "cell_type": "code",
      "source": [
        "x = torch.rand(5,3)"
      ],
      "metadata": {
        "colab": {
          "base_uri": "https://localhost:8080/"
        },
        "id": "sd8jyBxR_vW2",
        "outputId": "1a6662ef-a803-46f1-ac7e-d925bdc28469"
      },
      "execution_count": 3,
      "outputs": [
        {
          "output_type": "execute_result",
          "data": {
            "text/plain": [
              "tensor([[0.0301, 0.8686, 0.6756],\n",
              "        [0.3153, 0.7108, 0.1005],\n",
              "        [0.3666, 0.3988, 0.2619],\n",
              "        [0.0995, 0.1148, 0.0857],\n",
              "        [0.4204, 0.1027, 0.4157]])"
            ]
          },
          "metadata": {},
          "execution_count": 3
        }
      ]
    },
    {
      "cell_type": "code",
      "source": [
        "x = torch.zeros(5,3,dtype=torch.long)\n",
        "x = torch.zeros(5,3).long()\n",
        "x"
      ],
      "metadata": {
        "colab": {
          "base_uri": "https://localhost:8080/"
        },
        "id": "kKmc36Yy_01X",
        "outputId": "7bb57757-4ef9-4301-a1e3-30d92b9ace9e"
      },
      "execution_count": 10,
      "outputs": [
        {
          "output_type": "execute_result",
          "data": {
            "text/plain": [
              "tensor([[0, 0, 0],\n",
              "        [0, 0, 0],\n",
              "        [0, 0, 0],\n",
              "        [0, 0, 0],\n",
              "        [0, 0, 0]])"
            ]
          },
          "metadata": {},
          "execution_count": 10
        }
      ]
    },
    {
      "cell_type": "code",
      "source": [
        "x.dtype"
      ],
      "metadata": {
        "colab": {
          "base_uri": "https://localhost:8080/"
        },
        "id": "WSDN3Pus_-8x",
        "outputId": "e5846f05-a5c1-491e-d3c4-94176eb310f8"
      },
      "execution_count": 8,
      "outputs": [
        {
          "output_type": "execute_result",
          "data": {
            "text/plain": [
              "torch.int64"
            ]
          },
          "metadata": {},
          "execution_count": 8
        }
      ]
    },
    {
      "cell_type": "code",
      "source": [
        "x = torch.tensor([5.5,3])\n",
        "x"
      ],
      "metadata": {
        "colab": {
          "base_uri": "https://localhost:8080/"
        },
        "id": "YojkEc1lAfLT",
        "outputId": "bcb4cc83-24da-47f2-a208-c59625a7a461"
      },
      "execution_count": 12,
      "outputs": [
        {
          "output_type": "execute_result",
          "data": {
            "text/plain": [
              "tensor([5.5000, 3.0000])"
            ]
          },
          "metadata": {},
          "execution_count": 12
        }
      ]
    },
    {
      "cell_type": "code",
      "source": [
        "x = x.new_ones(5,3,dtype=torch.double)\n",
        "x"
      ],
      "metadata": {
        "colab": {
          "base_uri": "https://localhost:8080/"
        },
        "id": "O2pkWJPqAuC4",
        "outputId": "2a58cdbb-49e5-44af-8809-2551f48ff087"
      },
      "execution_count": 13,
      "outputs": [
        {
          "output_type": "execute_result",
          "data": {
            "text/plain": [
              "tensor([[1., 1., 1.],\n",
              "        [1., 1., 1.],\n",
              "        [1., 1., 1.],\n",
              "        [1., 1., 1.],\n",
              "        [1., 1., 1.]], dtype=torch.float64)"
            ]
          },
          "metadata": {},
          "execution_count": 13
        }
      ]
    },
    {
      "cell_type": "code",
      "source": [
        "x = torch.randn_like(x, dtype= torch.float)\n",
        "x"
      ],
      "metadata": {
        "colab": {
          "base_uri": "https://localhost:8080/"
        },
        "id": "P20JhOKOBCK6",
        "outputId": "4fc41458-0fbb-4ebb-ae29-d1c7fdd255bd"
      },
      "execution_count": 14,
      "outputs": [
        {
          "output_type": "execute_result",
          "data": {
            "text/plain": [
              "tensor([[-1.6479, -0.8950, -1.2141],\n",
              "        [ 0.8702,  1.2261,  0.2503],\n",
              "        [ 0.1235,  0.0886, -1.7289],\n",
              "        [-1.1172,  0.2244,  0.2071],\n",
              "        [-0.3974,  0.3236, -0.8299]])"
            ]
          },
          "metadata": {},
          "execution_count": 14
        }
      ]
    },
    {
      "cell_type": "code",
      "source": [
        "x.shape"
      ],
      "metadata": {
        "colab": {
          "base_uri": "https://localhost:8080/"
        },
        "id": "UatrSzaqBT4R",
        "outputId": "87fc5075-7998-4b67-9862-12695cbe6d3a"
      },
      "execution_count": 15,
      "outputs": [
        {
          "output_type": "execute_result",
          "data": {
            "text/plain": [
              "torch.Size([5, 3])"
            ]
          },
          "metadata": {},
          "execution_count": 15
        }
      ]
    },
    {
      "cell_type": "code",
      "source": [
        "y = torch.rand(5,3)\n",
        "y"
      ],
      "metadata": {
        "colab": {
          "base_uri": "https://localhost:8080/"
        },
        "id": "c2i7HoQKBXX9",
        "outputId": "e3920eca-3521-45fb-9e18-e06884f4d835"
      },
      "execution_count": 23,
      "outputs": [
        {
          "output_type": "execute_result",
          "data": {
            "text/plain": [
              "tensor([[0.3224, 0.7089, 0.4442],\n",
              "        [0.5065, 0.0586, 0.6788],\n",
              "        [0.2603, 0.4663, 0.2923],\n",
              "        [0.4713, 0.9158, 0.1437],\n",
              "        [0.1924, 0.2694, 0.7338]])"
            ]
          },
          "metadata": {},
          "execution_count": 23
        }
      ]
    },
    {
      "cell_type": "code",
      "source": [
        "x + y"
      ],
      "metadata": {
        "colab": {
          "base_uri": "https://localhost:8080/"
        },
        "id": "-Vm6raa6Bf5z",
        "outputId": "ce42ebc6-1269-41fd-b718-00c15127bc12"
      },
      "execution_count": 25,
      "outputs": [
        {
          "output_type": "execute_result",
          "data": {
            "text/plain": [
              "tensor([[-1.3255, -0.1861, -0.7699],\n",
              "        [ 1.3766,  1.2847,  0.9291],\n",
              "        [ 0.3838,  0.5550, -1.4366],\n",
              "        [-0.6459,  1.1402,  0.3508],\n",
              "        [-0.2050,  0.5930, -0.0962]])"
            ]
          },
          "metadata": {},
          "execution_count": 25
        }
      ]
    },
    {
      "cell_type": "code",
      "source": [
        "torch.add(x, y)"
      ],
      "metadata": {
        "colab": {
          "base_uri": "https://localhost:8080/"
        },
        "id": "UfJ8N1wPBmIg",
        "outputId": "7fbb2fdf-973d-451f-c24c-86338ef95333"
      },
      "execution_count": 24,
      "outputs": [
        {
          "output_type": "execute_result",
          "data": {
            "text/plain": [
              "tensor([[-1.3255, -0.1861, -0.7699],\n",
              "        [ 1.3766,  1.2847,  0.9291],\n",
              "        [ 0.3838,  0.5550, -1.4366],\n",
              "        [-0.6459,  1.1402,  0.3508],\n",
              "        [-0.2050,  0.5930, -0.0962]])"
            ]
          },
          "metadata": {},
          "execution_count": 24
        }
      ]
    },
    {
      "cell_type": "code",
      "source": [
        "y.add_(x)\n",
        "y"
      ],
      "metadata": {
        "colab": {
          "base_uri": "https://localhost:8080/"
        },
        "id": "Kz-_w2cBBves",
        "outputId": "72675a29-97ad-4ef2-eb80-687479852f4a"
      },
      "execution_count": 26,
      "outputs": [
        {
          "output_type": "execute_result",
          "data": {
            "text/plain": [
              "tensor([[-1.3255, -0.1861, -0.7699],\n",
              "        [ 1.3766,  1.2847,  0.9291],\n",
              "        [ 0.3838,  0.5550, -1.4366],\n",
              "        [-0.6459,  1.1402,  0.3508],\n",
              "        [-0.2050,  0.5930, -0.0962]])"
            ]
          },
          "metadata": {},
          "execution_count": 26
        }
      ]
    },
    {
      "cell_type": "code",
      "source": [
        "y[1:,1:]"
      ],
      "metadata": {
        "colab": {
          "base_uri": "https://localhost:8080/"
        },
        "id": "u-Bq0nlVCTwW",
        "outputId": "51797509-91af-4e88-8f71-974d759e185f"
      },
      "execution_count": 29,
      "outputs": [
        {
          "output_type": "execute_result",
          "data": {
            "text/plain": [
              "tensor([[ 1.2847,  0.9291],\n",
              "        [ 0.5550, -1.4366],\n",
              "        [ 1.1402,  0.3508],\n",
              "        [ 0.5930, -0.0962]])"
            ]
          },
          "metadata": {},
          "execution_count": 29
        }
      ]
    },
    {
      "cell_type": "code",
      "source": [
        "x= torch.rand(4,4)\n",
        "x\n",
        "y= x.view(16)\n",
        "z= x.view(-1,2)\n",
        "z"
      ],
      "metadata": {
        "colab": {
          "base_uri": "https://localhost:8080/"
        },
        "id": "M8Cvq9NiCpMw",
        "outputId": "d6076a75-6958-4563-b04b-b08c48bbf036"
      },
      "execution_count": 33,
      "outputs": [
        {
          "output_type": "execute_result",
          "data": {
            "text/plain": [
              "tensor([[0.1591, 0.4318],\n",
              "        [0.5475, 0.2412],\n",
              "        [0.4274, 0.1890],\n",
              "        [0.3448, 0.5525],\n",
              "        [0.2092, 0.8432],\n",
              "        [0.4688, 0.2634],\n",
              "        [0.1024, 0.7777],\n",
              "        [0.8538, 0.0673]])"
            ]
          },
          "metadata": {},
          "execution_count": 33
        }
      ]
    },
    {
      "cell_type": "code",
      "source": [
        "x = torch.rand(1)\n",
        "x"
      ],
      "metadata": {
        "colab": {
          "base_uri": "https://localhost:8080/"
        },
        "id": "Z9QWLIelDEjj",
        "outputId": "6cbf1e52-b249-47ce-f0aa-c1282f4c7338"
      },
      "execution_count": 35,
      "outputs": [
        {
          "output_type": "execute_result",
          "data": {
            "text/plain": [
              "tensor([0.5811])"
            ]
          },
          "metadata": {},
          "execution_count": 35
        }
      ]
    },
    {
      "cell_type": "code",
      "source": [
        "# dir(x)"
      ],
      "metadata": {
        "id": "nD9i-XVbDNlK"
      },
      "execution_count": 40,
      "outputs": []
    },
    {
      "cell_type": "code",
      "source": [
        "x.data\n",
        "x.grad\n",
        "x.item()"
      ],
      "metadata": {
        "colab": {
          "base_uri": "https://localhost:8080/"
        },
        "id": "3u_gP9dADZ1S",
        "outputId": "cc281e2a-7bc5-45df-a8bb-640bf1cf8525"
      },
      "execution_count": 39,
      "outputs": [
        {
          "output_type": "execute_result",
          "data": {
            "text/plain": [
              "0.5811089873313904"
            ]
          },
          "metadata": {},
          "execution_count": 39
        }
      ]
    },
    {
      "cell_type": "code",
      "source": [
        "z.transpose(1,0)"
      ],
      "metadata": {
        "colab": {
          "base_uri": "https://localhost:8080/"
        },
        "id": "Moq-RFe8D2kY",
        "outputId": "90338b45-71c8-4dac-9a2c-4fec11de22c8"
      },
      "execution_count": 42,
      "outputs": [
        {
          "output_type": "execute_result",
          "data": {
            "text/plain": [
              "tensor([[0.1591, 0.5475, 0.4274, 0.3448, 0.2092, 0.4688, 0.1024, 0.8538],\n",
              "        [0.4318, 0.2412, 0.1890, 0.5525, 0.8432, 0.2634, 0.7777, 0.0673]])"
            ]
          },
          "metadata": {},
          "execution_count": 42
        }
      ]
    },
    {
      "cell_type": "code",
      "source": [
        "a = torch.ones(5)\n",
        "a "
      ],
      "metadata": {
        "colab": {
          "base_uri": "https://localhost:8080/"
        },
        "id": "9O-RbxP9EXcl",
        "outputId": "13f60cc7-c96f-4135-d4de-8fe9288b32bf"
      },
      "execution_count": 43,
      "outputs": [
        {
          "output_type": "execute_result",
          "data": {
            "text/plain": [
              "tensor([1., 1., 1., 1., 1.])"
            ]
          },
          "metadata": {},
          "execution_count": 43
        }
      ]
    },
    {
      "cell_type": "code",
      "source": [
        "b = a.numpy()\n",
        "b"
      ],
      "metadata": {
        "colab": {
          "base_uri": "https://localhost:8080/"
        },
        "id": "uprs0ZnEEfPz",
        "outputId": "bd59486a-ef24-4ee7-b347-e0f5a41552b6"
      },
      "execution_count": 44,
      "outputs": [
        {
          "output_type": "execute_result",
          "data": {
            "text/plain": [
              "array([1., 1., 1., 1., 1.], dtype=float32)"
            ]
          },
          "metadata": {},
          "execution_count": 44
        }
      ]
    },
    {
      "cell_type": "code",
      "source": [
        "b[0] = 2\n",
        "b"
      ],
      "metadata": {
        "colab": {
          "base_uri": "https://localhost:8080/"
        },
        "id": "bG5FwtfeEnv-",
        "outputId": "b66142bf-c2c6-4ea5-9d94-1b124f08e627"
      },
      "execution_count": 45,
      "outputs": [
        {
          "output_type": "execute_result",
          "data": {
            "text/plain": [
              "array([2., 1., 1., 1., 1.], dtype=float32)"
            ]
          },
          "metadata": {},
          "execution_count": 45
        }
      ]
    },
    {
      "cell_type": "code",
      "source": [
        "a"
      ],
      "metadata": {
        "colab": {
          "base_uri": "https://localhost:8080/"
        },
        "id": "kMbm1dDuEuZs",
        "outputId": "1c1a0f81-2b50-49eb-fead-6ba5e02e8f7d"
      },
      "execution_count": 46,
      "outputs": [
        {
          "output_type": "execute_result",
          "data": {
            "text/plain": [
              "tensor([2., 1., 1., 1., 1.])"
            ]
          },
          "metadata": {},
          "execution_count": 46
        }
      ]
    },
    {
      "cell_type": "code",
      "source": [
        "import numpy as np\n",
        "a = np.ones(5)\n",
        "b = torch.from_numpy(a)\n",
        "np.add(a, 1, out=a)\n",
        "print(a)"
      ],
      "metadata": {
        "colab": {
          "base_uri": "https://localhost:8080/"
        },
        "id": "Q_OHX2qFF2zg",
        "outputId": "d8096316-543e-4acb-ca31-eeaa200b8e39"
      },
      "execution_count": 49,
      "outputs": [
        {
          "output_type": "stream",
          "name": "stdout",
          "text": [
            "[2. 2. 2. 2. 2.]\n"
          ]
        }
      ]
    },
    {
      "cell_type": "code",
      "source": [
        "b"
      ],
      "metadata": {
        "colab": {
          "base_uri": "https://localhost:8080/"
        },
        "id": "jS_DngDYGdP6",
        "outputId": "bd756346-9da7-4cf9-9cb7-aac5948defe0"
      },
      "execution_count": 50,
      "outputs": [
        {
          "output_type": "execute_result",
          "data": {
            "text/plain": [
              "tensor([2., 2., 2., 2., 2.], dtype=torch.float64)"
            ]
          },
          "metadata": {},
          "execution_count": 50
        }
      ]
    },
    {
      "cell_type": "code",
      "source": [
        "if torch.cuda.is_available():\n",
        "  device = torch.device('cuda')\n",
        "  y = torch.ones_like (x,device=device)\n",
        "  x = x.to(device)\n",
        "  x = x + y\n",
        "  print(x)\n",
        "  print(x.to('cpu', torch.double))"
      ],
      "metadata": {
        "colab": {
          "base_uri": "https://localhost:8080/",
          "height": 137
        },
        "id": "LPYUYYI2Gt28",
        "outputId": "8a40ce29-a19f-4213-963e-f6e62eb84fc7"
      },
      "execution_count": 7,
      "outputs": [
        {
          "output_type": "error",
          "ename": "SyntaxError",
          "evalue": "ignored",
          "traceback": [
            "\u001b[0;36m  File \u001b[0;32m\"<ipython-input-7-4f66399b0155>\"\u001b[0;36m, line \u001b[0;32m1\u001b[0m\n\u001b[0;31m    if torch.cuda.is_available():\u001b[0m\n\u001b[0m                                 ^\u001b[0m\n\u001b[0;31mSyntaxError\u001b[0m\u001b[0;31m:\u001b[0m unexpected EOF while parsing\n"
          ]
        }
      ]
    },
    {
      "cell_type": "code",
      "source": [
        "y..to('cpu').data.numpy[]\n",
        "y.cpu().data.numpy( )"
      ],
      "metadata": {
        "id": "MbrkrRswscnj"
      },
      "execution_count": null,
      "outputs": []
    },
    {
      "cell_type": "code",
      "source": [
        ""
      ],
      "metadata": {
        "id": "_LJYtY5QkC9n"
      },
      "execution_count": null,
      "outputs": []
    }
  ]
}
